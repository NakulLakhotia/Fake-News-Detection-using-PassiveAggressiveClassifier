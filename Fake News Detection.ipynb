{
 "cells": [
  {
   "cell_type": "markdown",
   "metadata": {},
   "source": [
    "## Fake News Detection"
   ]
  },
  {
   "cell_type": "code",
   "execution_count": 1,
   "metadata": {},
   "outputs": [],
   "source": [
    "# Import all necessary libraries\n",
    "import itertools\n",
    "import pandas as pd\n",
    "import numpy as np\n",
    "from sklearn.linear_model import PassiveAggressiveClassifier\n",
    "from sklearn.model_selection import train_test_split\n",
    "from sklearn.feature_extraction.text import TfidfVectorizer\n",
    "from sklearn.metrics import accuracy_score\n",
    "from sklearn.metrics import confusion_matrix"
   ]
  },
  {
   "cell_type": "code",
   "execution_count": 2,
   "metadata": {},
   "outputs": [
    {
     "data": {
      "text/plain": [
       "(20800, 5)"
      ]
     },
     "execution_count": 2,
     "metadata": {},
     "output_type": "execute_result"
    }
   ],
   "source": [
    "# Import dataset\n",
    "df=pd.read_csv('train.csv')\n",
    "\n",
    "# Get the shape\n",
    "df.shape"
   ]
  },
  {
   "cell_type": "code",
   "execution_count": 3,
   "metadata": {},
   "outputs": [
    {
     "data": {
      "text/html": [
       "<div>\n",
       "<style scoped>\n",
       "    .dataframe tbody tr th:only-of-type {\n",
       "        vertical-align: middle;\n",
       "    }\n",
       "\n",
       "    .dataframe tbody tr th {\n",
       "        vertical-align: top;\n",
       "    }\n",
       "\n",
       "    .dataframe thead th {\n",
       "        text-align: right;\n",
       "    }\n",
       "</style>\n",
       "<table border=\"1\" class=\"dataframe\">\n",
       "  <thead>\n",
       "    <tr style=\"text-align: right;\">\n",
       "      <th></th>\n",
       "      <th>id</th>\n",
       "      <th>title</th>\n",
       "      <th>author</th>\n",
       "      <th>text</th>\n",
       "      <th>label</th>\n",
       "    </tr>\n",
       "  </thead>\n",
       "  <tbody>\n",
       "    <tr>\n",
       "      <th>0</th>\n",
       "      <td>0</td>\n",
       "      <td>House Dem Aide: We Didn’t Even See Comey’s Let...</td>\n",
       "      <td>Darrell Lucus</td>\n",
       "      <td>House Dem Aide: We Didn’t Even See Comey’s Let...</td>\n",
       "      <td>1</td>\n",
       "    </tr>\n",
       "    <tr>\n",
       "      <th>1</th>\n",
       "      <td>1</td>\n",
       "      <td>FLYNN: Hillary Clinton, Big Woman on Campus - ...</td>\n",
       "      <td>Daniel J. Flynn</td>\n",
       "      <td>Ever get the feeling your life circles the rou...</td>\n",
       "      <td>0</td>\n",
       "    </tr>\n",
       "    <tr>\n",
       "      <th>2</th>\n",
       "      <td>2</td>\n",
       "      <td>Why the Truth Might Get You Fired</td>\n",
       "      <td>Consortiumnews.com</td>\n",
       "      <td>Why the Truth Might Get You Fired October 29, ...</td>\n",
       "      <td>1</td>\n",
       "    </tr>\n",
       "    <tr>\n",
       "      <th>3</th>\n",
       "      <td>3</td>\n",
       "      <td>15 Civilians Killed In Single US Airstrike Hav...</td>\n",
       "      <td>Jessica Purkiss</td>\n",
       "      <td>Videos 15 Civilians Killed In Single US Airstr...</td>\n",
       "      <td>1</td>\n",
       "    </tr>\n",
       "    <tr>\n",
       "      <th>4</th>\n",
       "      <td>4</td>\n",
       "      <td>Iranian woman jailed for fictional unpublished...</td>\n",
       "      <td>Howard Portnoy</td>\n",
       "      <td>Print \\nAn Iranian woman has been sentenced to...</td>\n",
       "      <td>1</td>\n",
       "    </tr>\n",
       "  </tbody>\n",
       "</table>\n",
       "</div>"
      ],
      "text/plain": [
       "   id                                              title              author  \\\n",
       "0   0  House Dem Aide: We Didn’t Even See Comey’s Let...       Darrell Lucus   \n",
       "1   1  FLYNN: Hillary Clinton, Big Woman on Campus - ...     Daniel J. Flynn   \n",
       "2   2                  Why the Truth Might Get You Fired  Consortiumnews.com   \n",
       "3   3  15 Civilians Killed In Single US Airstrike Hav...     Jessica Purkiss   \n",
       "4   4  Iranian woman jailed for fictional unpublished...      Howard Portnoy   \n",
       "\n",
       "                                                text  label  \n",
       "0  House Dem Aide: We Didn’t Even See Comey’s Let...      1  \n",
       "1  Ever get the feeling your life circles the rou...      0  \n",
       "2  Why the Truth Might Get You Fired October 29, ...      1  \n",
       "3  Videos 15 Civilians Killed In Single US Airstr...      1  \n",
       "4  Print \\nAn Iranian woman has been sentenced to...      1  "
      ]
     },
     "execution_count": 3,
     "metadata": {},
     "output_type": "execute_result"
    }
   ],
   "source": [
    "# See what our dataset looks like\n",
    "# Dataset Source - https://www.kaggle.com/c/fake-news/data?select=train.csv\n",
    "df.head()"
   ]
  },
  {
   "cell_type": "markdown",
   "metadata": {},
   "source": [
    "#### Label-1- Fake   ,     Label-0-Real\n"
   ]
  },
  {
   "cell_type": "code",
   "execution_count": 4,
   "metadata": {},
   "outputs": [],
   "source": [
    "# Change the labels\n",
    "df.loc[(df['label'] == 1) , ['label']] = 'FAKE'\n",
    "df.loc[(df['label'] == 0) , ['label']] = 'REAL'"
   ]
  },
  {
   "cell_type": "code",
   "execution_count": 5,
   "metadata": {},
   "outputs": [
    {
     "data": {
      "text/plain": [
       "0    FAKE\n",
       "1    REAL\n",
       "2    FAKE\n",
       "3    FAKE\n",
       "4    FAKE\n",
       "Name: label, dtype: object"
      ]
     },
     "execution_count": 5,
     "metadata": {},
     "output_type": "execute_result"
    }
   ],
   "source": [
    "# Isolate the labels\n",
    "labels = df.label\n",
    "labels.head()"
   ]
  },
  {
   "cell_type": "code",
   "execution_count": 6,
   "metadata": {},
   "outputs": [],
   "source": [
    "#Split the dataset\n",
    "x_train,x_test,y_train,y_test=train_test_split(df['text'].values.astype('str'), labels, test_size=0.2, random_state=7)"
   ]
  },
  {
   "cell_type": "code",
   "execution_count": 7,
   "metadata": {},
   "outputs": [],
   "source": [
    "#Initialize a TfidfVectorizer\n",
    "tfidf_vectorizer=TfidfVectorizer(stop_words='english', max_df=0.7)"
   ]
  },
  {
   "cell_type": "code",
   "execution_count": 8,
   "metadata": {},
   "outputs": [],
   "source": [
    "# Fit & transform train set, transform test set\n",
    "tfidf_train=tfidf_vectorizer.fit_transform(x_train) \n",
    "tfidf_test=tfidf_vectorizer.transform(x_test)"
   ]
  },
  {
   "cell_type": "code",
   "execution_count": 9,
   "metadata": {},
   "outputs": [
    {
     "name": "stderr",
     "output_type": "stream",
     "text": [
      "C:\\Users\\NAKUL LAKHOTIA\\Anaconda3\\lib\\site-packages\\sklearn\\linear_model\\stochastic_gradient.py:183: FutureWarning: max_iter and tol parameters have been added in PassiveAggressiveClassifier in 0.19. If max_iter is set but tol is left unset, the default value for tol in 0.19 and 0.20 will be None (which is equivalent to -infinity, so it has no effect) but will change in 0.21 to 1e-3. Specify tol to silence this warning.\n",
      "  FutureWarning)\n"
     ]
    },
    {
     "data": {
      "text/plain": [
       "PassiveAggressiveClassifier(C=1.0, average=False, class_weight=None,\n",
       "              early_stopping=False, fit_intercept=True, loss='hinge',\n",
       "              max_iter=50, n_iter=None, n_iter_no_change=5, n_jobs=None,\n",
       "              random_state=None, shuffle=True, tol=None,\n",
       "              validation_fraction=0.1, verbose=0, warm_start=False)"
      ]
     },
     "execution_count": 9,
     "metadata": {},
     "output_type": "execute_result"
    }
   ],
   "source": [
    "# About PassiveAgressiveClassifier - https://www.geeksforgeeks.org/passive-aggressive-classifiers/\n",
    "# Initialize the PassiveAggressiveClassifier and fit training sets\n",
    "pa_classifier=PassiveAggressiveClassifier(max_iter=50)\n",
    "pa_classifier.fit(tfidf_train,y_train)"
   ]
  },
  {
   "cell_type": "code",
   "execution_count": 10,
   "metadata": {},
   "outputs": [
    {
     "name": "stdout",
     "output_type": "stream",
     "text": [
      "Accuracy: 96.61%\n"
     ]
    }
   ],
   "source": [
    "# Predict and calculate accuracy\n",
    "y_pred=pa_classifier.predict(tfidf_test)\n",
    "score=accuracy_score(y_test,y_pred)\n",
    "print(f'Accuracy: {round(score*100,2)}%')"
   ]
  },
  {
   "cell_type": "code",
   "execution_count": 11,
   "metadata": {},
   "outputs": [
    {
     "data": {
      "text/plain": [
       "array([[2035,   65],\n",
       "       [  76, 1984]], dtype=int64)"
      ]
     },
     "execution_count": 11,
     "metadata": {},
     "output_type": "execute_result"
    }
   ],
   "source": [
    "# Build confusion matrix\n",
    "confusion_matrix(y_test,y_pred, labels=['FAKE','REAL'])"
   ]
  },
  {
   "cell_type": "code",
   "execution_count": 27,
   "metadata": {},
   "outputs": [],
   "source": [
    "sample=\"In 2020, a gay couple celebrated the world's first anal birth after a woman's ovaries were transplanted into a man.\""
   ]
  },
  {
   "cell_type": "code",
   "execution_count": 18,
   "metadata": {},
   "outputs": [
    {
     "name": "stdout",
     "output_type": "stream",
     "text": [
      "8602     FAKE\n",
      "6334     FAKE\n",
      "7974     REAL\n",
      "8567     REAL\n",
      "1814     REAL\n",
      "20628    REAL\n",
      "14921    FAKE\n",
      "7091     FAKE\n",
      "15209    REAL\n",
      "19257    FAKE\n",
      "Name: label, dtype: object\n",
      "['FAKE' 'FAKE' 'REAL' 'REAL' 'REAL' 'REAL' 'FAKE' 'FAKE' 'REAL' 'FAKE']\n"
     ]
    }
   ],
   "source": [
    "print(y_test[0:10])\n",
    "print(y_pred[0:10])"
   ]
  },
  {
   "cell_type": "code",
   "execution_count": 19,
   "metadata": {
    "collapsed": true
   },
   "outputs": [
    {
     "name": "stdout",
     "output_type": "stream",
     "text": [
      "['posted by Eddie Mandatory vaccinations are about to open up a new frontier for government control. Through the war on drugs, bureaucrats arbitrarily dictate what people can and can’t put into their bodies, but that violation pales in comparison to forcibly medicating millions against their will. Voluntary and informed consent are essential in securing individual rights, and without it, self-ownership will never be respected. The liberal stronghold of California is trailblazing the encroaching new practice and recently passed laws mandating that children and adults must have certain immunizations before being able to attend schools or work in certain professions. The longstanding religious and philosophical exemptions that protect freedom of choice have been systematically crushed by the state. California’s Senate Bill 277 went into effect on July 1st, 2016, and marked the most rigid requirements ever instituted for vaccinations. The law forces students to endure a total of 40 doses to complete the 10 federally recommended vaccines while allowing more to be added at any time. Any family that doesn’t go along will have their child barred from attending licensed day care facilities, in-home daycares, public or private schools, and even after school programs. Over the years, California has developed a reputation for pushing vaccines on their youth. Assembly Bill 499 was passed in 2011 and lowered the age of consent for STD prevention vaccines to just 12 years old. Included in the assortment of shots being administered was the infamous Gardasil , which just a few years later was at the center of a lawsuit that yielded the victims a $6 million settlement from the U.S. government, which paid out funds from the National Vaccine Injury Compensation Program . The Vaccinate All Children Act of 2015 is an attempt to implement this new standard nationwide, and although it has stalled in the House, it will likely be reintroduced the next time the country is gripped by the fear of a pandemic. The debate surrounding vaccinations is commonly framed as a moral struggle between the benefits to the collective and the selfish preferences of the individual. But since the outbreak scares of Zika , measles , and ebola , the rhetoric has taken a turn toward authoritarianism. It’s commonly stated by the CDC and most mainstream doctors that the unvaccinated are putting the health of everyone else at risk, but the truth isn’t so black and white . The herd immunity theory has been consistently used to validate the expansion of vaccine programs, but it still doesn’t justify the removal of choice from the individual. The classic exchange of freedom for perceived safety is a no brainer for the millions of Americans who are willing to use government to strap their neighbors down and forcibly inject them for the greater good. Anyone who expresses concern about possible side effects is immediately branded as conspiratorial or anti-science. Yet controversial claims that certain vaccine variants cause neurological disorders like autism have led some people to swear off inoculations altogether. This all-or-nothing dynamic has completely polarized the issue and prevents any reasonable discussion from taking place. Either you accept all of the CDC’s recommended 69 doses of 16 vaccines between birth and age 18, or you want to bring back measles, polio, and probably the black plague. On the other extreme side of the debate, if you fail to acknowledge all vaccines as dangerous, you’re an ignorant sheep. Through the internet, disinformation has become widespread and created a movement of people that have written off all the benefits accomplished through immunizations. These individuals are unable or unwilling to separate the science from the shady institutions that develop and distribute new vaccines. Even if thimerosal and mercury based preservatives cause adverse reactions in some patients, it doesn’t detract from the advantages vaccine technology provides. In this debate, like most others in the US, both sides are swept up in emotion and ignorance. Regardless, the public’s trust in vaccinations has been eroded by the reputations of those companies producing them. Pharmaceutical giants like Merck and Pfizer make billions from the distribution of these shots, and the potential profits after a mandate are enough to corrupt the morals of almost anyone. In one example, former CDC director Dr. Julie Gerberding left her post at the government agency in 2009 to work in Merck’s vaccine division. An investigative report published by the British Medical Journal last year found the CDC downplays its ties to the pharmaceutical industry. Further, by buying the support of politicians like Hillary Clinton — who received more donations from pharmaceutical companies and their employees than any other candidate this year — these huge companies are able to expand their influence in directing government policy . Maintaining control over what we put into our own bodies is a fundamental right, but for now, standing up to these government decrees only means ostracism from the education system and criticism from peers. In the future, however, the punishments for disobedience will likely only grow stricter. An Orange County doctor named Bob Sears is already in the crosshairs of California’s medical board after excusing a two-year-old from future vaccinations. The mother expressed concern that her daughter had an adverse reaction to a previous shot, describing the child as becoming limp “like a ragdoll” for 24 hours after the last dose. Dr. Sears’ alternative treatment recommendations break from the rules dictated by S.B. 277, and now his reputation, as well as his career, are in jeopardy. This new authority to strip doctors of their medical licenses for simply going against the state-imposed standards opens the door for the persecution of medical professionals who resist any government regulation. A vaccination is an invasive medical procedure that can have different effects on each and every individual. The Nuremberg Code’s first principle is voluntary consent, but it seems the lessons of history have been completely forgotten by today’s leaders. The transition of these shots from “recommended” to “required” is well underway, and those who think the ends justify the means are willing to forcibly make sure everyone else complies. The new benchmark set by California symbolizes a precedent that could be mimicked across the nation. Without having the discretion to choose which medications are injected into your body — or your child’s — how can anyone convince themselves they are free? This overreach and collusion can often be dismissed as a trivial issue, but the fact that voluntary consent is under attack speaks volumes to the extent that state power has metastasized. source:'\n",
      " 'Chips ‘do not need to be cooked three times’ 03-11-16 ONCE-COOKED chips are perfectly fine, it has been confirmed. Researchers at the Institute for Studies decided to forego the now-standard ‘triple-cooking’ of chips and found that potatoes only need to be fried once to produce the desired result. Professor Henry Brubaker said: “If you slice potatoes and fry them a single time, you get chips. Perfectly delicious chips. “I have no idea why you’d do it twice more, unless you are some sort of imbecile.” Professory Brubaker confirmed that even if you were deep-frying a horse you would only need to do it once. He added: “Get oil, make hot, put thing in oil, take thing out, eat thing. “If Heston Blumenthal told you to punch yourself in the ear would you do that too?” \\nShare:'\n",
      " 'Even with all the setbacks from recessions, burst bubbles and vanishing industries, the United States has still pumped out breathtaking riches over the last three and half decades. The real economy more than doubled in size the government now uses a substantial share of that bounty to hand over as much as $5 trillion to help working families, older people, disabled and unemployed people pay for a home, visit a doctor and put their children through school. Yet for half of all Americans, their share of the total economic pie has shrunk significantly, new research has found. This group  —   the approximately 117 million adults stuck on the lower half of the income ladder  —   “has been completely shut off from economic growth since the 1970s,” the team of economists found. “Even after taxes and transfers, there has been close to zero growth for   adults in the bottom 50 percent. ” The new findings, by the economists Thomas Piketty, Emmanuel Saez and Gabriel Zucman, provide the most thoroughgoing analysis to date of how the income kitty  —   like paychecks,   fringe benefits and food stamps  —   is divided among the American population. Stagnant wages have sliced the share of income collected by the bottom half of the population to 12. 5 percent in 2014, from 20 percent of the total in 1980. Where did that money go? Essentially, to the top 1 percent, whose share of the nation’s income nearly doubled to more than 20 percent during that same   period. Inequality has been a defining national issue for nearly a decade, thanks in part to groundbreaking research done by Mr. Piketty at the Paris School of Economics and Mr. Saez at the University of California, Berkeley. But now a new administration in Washington is promising to reshape the government’s role in curbing the intense concentration of wealth at the top and improving the fortunes of those left behind. During his tenure in the White House, President Obama pushed to address income stagnation by shifting more of the tax burden from the middle class to the rich and expanding public programs like universal health insurance. Both strategies are now targeted by   Donald J. Trump and Republicans in Congress, led by House Speaker Paul Ryan. Like many conservatives, Mr. Ryan argues that aid to the poor is ultimately counterproductive because it undermines the incentive to work. Proposals put forward by Republican leaders, though short on details, make clear that they want to roll back benefits like Medicaid and the Affordable Care Act, which primarily help the poor, and direct the largest tax cuts to the wealthiest Americans. About 30 percent of the country’s income is channeled to federal, state and local taxes. Apart from military spending and performing basic public services, much of that is distributed back to individuals through various programs and tax benefits in the form of Social Security checks, Medicare benefits and veterans’ benefits. But until now, no one has truly measured the full impact that tax payments, government spending, noncash benefits and nontaxable income together have on inequality. Abundant documentation of income inequality already exists, but it has been challenged as incomplete. Studies have excluded the impact of taxes and value of public benefits, skeptics complained, or failed to account for the smaller size of households over time. This latest project tries to address those earlier criticisms. What the trio of economists found is that the spectacular growth in incomes at the peak has so outpaced the small increase at the bottom from public programs intended to ameliorate poverty and inequality that the gap between the wealthiest and everyone else has continued to widen. Average incomes, adjusted for inflation, grew by 61 percent from 1980 to 2014. But nearly $7 out of every additional $10 went to those in the top tenth of the income scale. Inequality has soared over that period. In 1980, the researchers found, someone in the top 1 percent earned on average the equivalent of $428, 200 a year in 2014 dollars  —   about 27 times more than the typical person in the bottom half, whose annual income equaled $16, 000. By 2014, the average income of half of American adults had barely budged, remaining around $16, 000, while members of the top 1 percent brought home, on average, $1, 304, 800 or 81 times as much. That ratio, the authors point out, “is similar to the gap between the average income in the United States and the average income in the world’s poorest countries, the   Democratic Republic of Congo, Central African Republic and Burundi. ” The growth of incomes has probably increased a bit since 2014, the latest year for which full data exists, said Mr. Zucman, who, like Mr. Saez, also teaches at the University of California, Berkeley. But it is “not enough to make any significant difference to our   finding, and in particular, to affect the   stagnation of    incomes. ” He was to present the findings at a   workshop at the City University of New York on Tuesday. Tax credits and programs like Medicare and disability payments have helped families at the lower half of the income scale. But they have just nipped at the heels of the underlying trend. “It confirms the surge in income at the top,” said Raj Chetty, an economist at Stanford unaffiliated with the project, who called the work “terrific and very important. And it shows government redistribution doesn’t really change the picture. ” Lawrence Katz, an economist at Harvard who also independently reviewed the research, agreed that the data underscored the inadequacies of programs that try to redress inequities after the fact. “It suggests that if you don’t do something earlier in the market, before distribution, through better education or greater bargaining power, it’s really tough to offset completely,” Mr. Katz said. “Countries with less inequality do some of both. ” Mr. Katz and Claudia Goldin, a Harvard economist, have argued that advances in technology, while crucial to improving productivity and generating economic growth, also have exacerbated inequality by driving down wages of   workers. The rewards of education are greater than they have ever been, but advancement nationwide has slowed and the system confers many of its favors on the children of the affluent. If there is a bright spot in the new comprehensive research, it is that after taxes and government spending, the middle class is in better shape than previous studies had shown. That earlier research had missed growth in nontaxable income like employee benefits. “The real income of the middle class is a bit better than we thought,” Mr. Katz said. As troubling as some may find inequality, it is not necessarily the fault of a rigged system, said N. Gregory Mankiw, an economist at Harvard who is familiar with the new research. He argues that large disparities in income more often than not accurately reflect widely varying economic contributions. “Inequality is a symptom of a variety of things,” Mr. Mankiw said. Technological progress may be a cause, but it benefits society over all, whereas the weakness of the educational system is clearly negative. Edward Conard, the author of “The Upside of Inequality” and a former business partner of Mitt Romney, agreed. “People say this is   game, and you’re taking money that would have gone to the other 50 percent,” he said. “That’s not what happened. ” Instead, Mr. Conard said, entrepreneurs in the United States have been willing to take big risks that have helped foster an infrastructure that promotes innovation, not just in Silicon Valley but in many other growing places around the country. “When rewards go up, people are more inclined to take risks,” he said. Some of those risks pay off and create wealth for everyone. The new research challenges that contention, at least in part. Mr. Piketty, Mr. Saez and Mr. Zucman concluded that the main driver of wealth in recent years has been investment income at the top. That is a switch from the 1980s and 1990s, when gains in income were primarily generated by working. That divergence can slow innovation and further entrench inequities, said Heather Boushey, an economist at the Washington Center for Equitable Growth. When labor income provides the primary route to riches, it creates incentives for people to improve their education and work harder, Ms. Boushey explained. But if getting ahead requires already having a stockpile of cash or inheriting a windfall from your parents, then it is much harder to work your way up. “If you’re closing off entryways, then you are basically shutting off avenues to competitiveness, innovation and growth,” Ms. Boushey said, “even if you don’t care about fairness. ”'\n",
      " 'Good morning. Here’s what you need to know: • The Trump administration took shape. The Transportation Department, the focus of   Donald J. Trump’s pledge to spend billions on infrastructure, will be led by Elaine Chao. Ms. Chao is a former labor secretary and is married to the Senate’s top Republican, Mitch McConnell. Tom Price, a   Republican congressman from Georgia who is a chief critic of President Obama’s health care initiative, will oversee its future. Steven Mnuchin, a former Goldman Sachs partner who has worked in hedge funds and Hollywood finance, is Mr. Trump’s expected choice for Treasury secretary. _____ • Mr. Trump, who has been communicating with the public through social media rather than news conferences, proposed two unconstitutional measures in a single tweet: forbidding the burning of the American flag, a right under free speech, and stripping the culprit of citizenship. _____ • Austria could elect Norbert Hofer, above, as the first   head of state in   War II Europe on Sunday, in what could be yet another victory for populists on the Continent. As support for   parties is rising across Europe, new research suggests that people have become more critical of democracy. “The warning signs are flashing red,” one scholar said. And another tectonic shift is coming to the European order: leaders are increasingly seeking to accommodate a resurgent Russia. _____  • The ferocious offensive in eastern Aleppo, in Syria, has forced some 16, 000 people to flee for their lives in the last few days, a United Nations official said. Leaflets warned inhabitants: “If you don’t leave these areas quickly you will be annihilated. ” John O. Brennan, the C. I. A. director, accused Russia of “disingenuous” negotiating tactics in Syria in an interview with the BBC. He also warned that scrapping the Iran nuclear agreement would be “the height of folly. ” _____ • A handful of people survived after a plane crashed outside Medellín, Colombia, killing many members of Chapecoense, a Brazilian soccer team, and journalists traveling with them. Plane crashes can be uniquely devastating when a sports team is on board. Here’s a look at other crashes, including one that involved the Manchester United team in 1958. _____ • Our correspondent returned to the Egyptian port city of Alexandria to find a place where despair had displaced the hope and anticipation of the 1960s. The country’s parliament endorsed a law regulating nongovernmental organizations that human rights groups say effectively bans their work. _____ • The price of oil fell ahead of today’s OPEC meeting, where the rivalry between Saudi Arabia and Iran may sink a possible agreement to curb production for the first time in eight years. • Volkswagen has failed to reach a settlement with some American customers over its emissions scandal. A hearing set for today has been postponed to  . • Drug regulators in the U. S. approved   clinical trials to study MDMA, the illegal party drug better known as Ecstasy, as treatment for   stress disorder. • The Bank of England said that the outlook on Britain’s financial stability “remains challenging. ” The Royal Bank of Scotland failed a stress test. •  Here’s a snapshot of global markets. • Germany arrested an employee of its domestic intelligence agency. The man is accused of posting Islamist messages online and sharing secrets. [Reuters] • The Five Star Movement, the Italian party campaigning against changes to the country’s Constitution in a referendum on Sunday, has been tied to online outlets that spread conspiracy theories. [BuzzFeed] • The Islamic State claimed the attack on Monday at Ohio State University, calling the   American student, seen here in a recent photo, who ran over people with a car and knifed others “a soldier. ” [The New York Times] • Britain’s new surveillance law took effect. It requires web and phone companies to store a year of personal browsing data to which the authorities will have unprecedented access. [The Guardian] • A former youth coach has been charged with eight counts of child sexual assault over a scandal that has shaken English soccer. [The New York Times] • A vast arched shelter slid into place over the Chernobyl nuclear disaster site in Ukraine, intended to protect against any additional spewing of toxic material for a century. [The New York Times] • The U. S. and China overtook Russia in space launches this year. [Moscow Times] • Leave or be driven out: Residents of coastal villages in Alaska are grappling with difficult decisions on how and when to relocate in the face of flooding and erosion linked to climate change. The state is warming twice as fast as the rest of the United States, pushing it to the forefront of adaptation. • Die Antwoord, the confrontational South African   musicians, have become something entirely unexpected: Hollywood. • Germany, the land of beer, riesling and schnapps, has gone gin mad. • The Times first prepared a report on the death of Fidel Castro in 1959. It has since cost us more hours than any other obituary we’ve ever run. • And at a moment when technology has made cultivating relationships easier, but also shallower, one writer considers the importance of true friendships. We told you last week about Lee   a deaf South Korean tennis player who is ranked 143rd in the world, a notable achievement in the sport’s professional era. But a keen reader informed us that more than 100 years ago, a British player who lost her hearing was also a champion. Charlotte Cooper Sterry was a rising star at a time when female players wore dresses and used wooden rackets. Her style of attacking the net and serving overhand were rare then. A year after winning her first Wimbledon title in 1895, she went completely deaf  —   why is not clear. But Ms. Sterry won the tournament (it was for amateurs only back then) four more times as well as an Olympic gold medal in 1900. Ms. Sterry played into her 40s and died in 1966 at age 96. Her achievements were soon eclipsed in history by players like Helen Wills Moody of the United States, who also won many Wimbledon titles, including four consecutively from 1927 to 1930. In that stretch, she lost just one set at the tournament: in 1927 to Ms. Sterry’s daughter. “Who is this Miss Sterry?” a Times article reported stunned spectators asking. An agitated man revealed the older Ms. Sterry’s feats. He added, “Look up your records, you ignorant scriveners. ” Sean Alfano contributed reporting. _____ Your Morning Briefing is published weekday mornings. What would you like to see here? Contact us at europebriefing@nytimes. com.'\n",
      " 'Rock legend Billy Joel says when it comes to politics, entertainers are “more like court jesters than court philosophers. ”[In a lengthy interview with Rolling Stone, the “Piano Man” crooner said people don’t come to his concerts to hear him preach politics.  “I try to stay out of politics. I am a private citizen and I have a right to believe in my own political point of view, but I try not to get up on a soapbox and tell people how to think,” Joel said. “I’ve been to shows where people start haranguing the audience about what’s going on politically and I’m thinking, ‘You know, this isn’t why I came here,’” the singer explained. “As a matter of fact, one of the biggest cheers of the night comes when we do ‘Piano Man’ and I sing, ‘They know that it’s me that they’re coming to see to forget about life for a while,’ and the audience lets out this huge ‘ahhhh’ and I say, ‘OK, yeah, don’t forget that. ’” The     who’s scored   hits and has toured the world for five decades, did say that he is “still flabbergasted” that Donald Trump won the White House. Joel joins the likes of actor Mark Wahlberg and  Transformers: The Last Knight star Josh Duhamel, who recently told Fox News: “I don’t like to get involved politically at all. Nobody cares what I think politically. ” Joel has a residency at Madison Square Garden, a post he calls the “greatest gig in the world. ” “I’m doing a residency at the world’s greatest arena  —   I mean what’s better than that?” he said. “This is our fourth year and it’s still selling out. I thought it would kind of dissipate. But so far there hasn’t been any indication of that. When there is then we’ll probably stop. ”   Follow Jerome Hudson on Twitter @jeromeehudson']\n"
     ]
    }
   ],
   "source": [
    "print(x_test[0:5])"
   ]
  },
  {
   "cell_type": "code",
   "execution_count": null,
   "metadata": {},
   "outputs": [],
   "source": []
  }
 ],
 "metadata": {
  "kernelspec": {
   "display_name": "Python 3",
   "language": "python",
   "name": "python3"
  },
  "language_info": {
   "codemirror_mode": {
    "name": "ipython",
    "version": 3
   },
   "file_extension": ".py",
   "mimetype": "text/x-python",
   "name": "python",
   "nbconvert_exporter": "python",
   "pygments_lexer": "ipython3",
   "version": "3.7.3"
  }
 },
 "nbformat": 4,
 "nbformat_minor": 2
}
